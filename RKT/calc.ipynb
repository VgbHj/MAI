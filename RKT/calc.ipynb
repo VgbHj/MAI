{
 "cells": [
  {
   "cell_type": "code",
   "execution_count": 1,
   "metadata": {},
   "outputs": [],
   "source": [
    "# Библиотеки\n",
    "import math"
   ]
  },
  {
   "cell_type": "markdown",
   "metadata": {},
   "source": [
    "Константы"
   ]
  },
  {
   "cell_type": "code",
   "execution_count": 2,
   "metadata": {},
   "outputs": [],
   "source": [
    "# ускорение свободного падения\n",
    "g = 9.8\n",
    "\n",
    "# Гравитационный параметр Кербина\n",
    "u  = 3.532*10**12"
   ]
  },
  {
   "cell_type": "markdown",
   "metadata": {},
   "source": [
    "Характеристики ступеней"
   ]
  },
  {
   "cell_type": "code",
   "execution_count": 3,
   "metadata": {},
   "outputs": [],
   "source": [
    "# Первая ступень (Восхождение)\n",
    "# удельный импульс двигателя ЖРД S3 KS-25 \n",
    "Rud1 = 315*9.8\n",
    "# начальная масса корабля(Мсух + Мтоплива)\n",
    "Mo1 = 370310\n",
    "# конечная масса корабля(Мсух)\n",
    "M1 = 244310\n",
    "\n",
    "# Вторая ступень (Выход на орбиту Кербина)\n",
    "# удельный импульс двигателя ЖРД S3 KS-25 \n",
    "Rud2 = 315*9.8\n",
    "# начальная масса корабля(Мсух + Мтоплива)\n",
    "Mo2 = 203102\n",
    "# конечная масса корабля(Мсух)\n",
    "M2 = 113102\n",
    "\n",
    "# Третяя ступень (1 часть) (TMI, прилунение, возвращение)\n",
    "# удельный импульс двигателя ЖРД LV-T30 \n",
    "Rud3 = 310*9.8\n",
    "# начальная масса корабля(Мсух + Мтоплива)\n",
    "Mo31 = 81233\n",
    "# конечная масса корабля(Мсух)\n",
    "M31 = 47233\n",
    "# начальная масса корабля(Мсух + Мтоплива)\n",
    "Mo32 = 39156\n",
    "# конечная масса корабля(Мсух)\n",
    "M32 = 27956\n"
   ]
  },
  {
   "cell_type": "markdown",
   "metadata": {},
   "source": [
    "Расчет xарактеристической скорости"
   ]
  },
  {
   "cell_type": "code",
   "execution_count": 4,
   "metadata": {},
   "outputs": [
    {
     "name": "stdout",
     "output_type": "stream",
     "text": [
      "Stage 1 v: 1283.8912705759744\n",
      "Stage 2 v: 1807.186136120065\n",
      "Stage 3 v: 2670.8594908782256\n",
      "\n",
      "Total v: 5761.9368975742655\n"
     ]
    }
   ],
   "source": [
    "v1 = Rud1*math.log(Mo1/M1)\n",
    "v2 = Rud2*math.log(Mo2/M2)\n",
    "v3 = Rud3*math.log(Mo31/M31)+Rud3*math.log(Mo32/M32)\n",
    "\n",
    "print(\"Stage 1 v:\",v1)\n",
    "print(\"Stage 2 v:\", v2)\n",
    "print(\"Stage 3 v:\", v3)\n",
    "print()\n",
    "\n",
    "print(\"Total v:\", v1+v2+v3)"
   ]
  },
  {
   "cell_type": "markdown",
   "metadata": {},
   "source": [
    "Расчет характерестической скорости для перехода с орбиты Кербина на орбиту Муны"
   ]
  },
  {
   "cell_type": "code",
   "execution_count": 5,
   "metadata": {},
   "outputs": [
    {
     "name": "stdout",
     "output_type": "stream",
     "text": [
      "662.6954630404346\n"
     ]
    }
   ],
   "source": [
    "# r1 - орбита Кербина r2 - орбита Муны \n",
    "r1 = 200000\n",
    "r2 = 12000000\n",
    "v1 = math.sqrt(u/r2)*(math.sqrt((2*r2)/(r1+r2))-1)\n",
    "v2 = math.sqrt(u/r2)*(1-math.sqrt(2*r1/(r1+r2)))\n",
    "\n",
    "print(v1+v2)"
   ]
  },
  {
   "cell_type": "markdown",
   "metadata": {},
   "source": [
    "Расход топлива и время работы двигателя"
   ]
  },
  {
   "cell_type": "code",
   "execution_count": 6,
   "metadata": {},
   "outputs": [
    {
     "name": "stdout",
     "output_type": "stream",
     "text": [
      "Расход топлива 1 ступени: 1619.6954972465176\n",
      "Время работы 1 ступени: 1.0m 17.7924s\n",
      "\n",
      "Расход топлива 2 ступени: 1295.756397797214\n",
      "Время работы 2 ступени 1.0m 9.45750000000001s\n",
      "\n",
      "Расход топлива 3 ступени: 1295.756397797214\n",
      "Время работы 3 ступени 1.0m 77.3176s\n"
     ]
    }
   ],
   "source": [
    "# дельта M1\n",
    "dM1 = Mo1-M1\n",
    "# расход топлива 1 ступени (5 дивигателей)\n",
    "m1 = 1000*1000*5/Rud1\n",
    "\n",
    "print(\"Расход топлива 1 ступени:\", m1)\n",
    "print(f\"Время работы 1 ступени: {dM1/m1//60}m {dM1/m1%60}s\")\n",
    "print()\n",
    "\n",
    "# дельта M2\n",
    "dM2 = Mo2-M2\n",
    "# расход топлива 2 ступень (4 двигателя)\n",
    "m2 = 1000*1000*4/Rud2\n",
    "\n",
    "\n",
    "print(\"Расход топлива 2 ступени:\", m2)\n",
    "print(f\"Время работы 2 ступени {dM2/m2//60}m {dM2/m2%60}s\")\n",
    "print()\n",
    "\n",
    "#дельта M3\n",
    "dM31 = Mo31-M31\n",
    "dM32 = Mo32-M32\n",
    "m3 = 1000*1000/Rud3\n",
    "\n",
    "print(\"Расход топлива 3 ступени:\", m2)\n",
    "print(f\"Время работы 3 ступени {dM31/m3//60+dM32/m3//60}m {dM31/m3%60+dM32/m3%60}s\")"
   ]
  },
  {
   "cell_type": "code",
   "execution_count": null,
   "metadata": {},
   "outputs": [],
   "source": []
  }
 ],
 "metadata": {
  "kernelspec": {
   "display_name": "Python 3 (ipykernel)",
   "language": "python",
   "name": "python3"
  },
  "language_info": {
   "codemirror_mode": {
    "name": "ipython",
    "version": 3
   },
   "file_extension": ".py",
   "mimetype": "text/x-python",
   "name": "python",
   "nbconvert_exporter": "python",
   "pygments_lexer": "ipython3",
   "version": "3.10.8"
  }
 },
 "nbformat": 4,
 "nbformat_minor": 2
}
